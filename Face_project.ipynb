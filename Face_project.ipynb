{
  "nbformat": 4,
  "nbformat_minor": 0,
  "metadata": {
    "colab": {
      "name": "Face_project2.ipynb",
      "provenance": [],
      "collapsed_sections": [],
      "toc_visible": true,
      "include_colab_link": true
    },
    "kernelspec": {
      "name": "python3",
      "display_name": "Python 3"
    }
  },
  "cells": [
    {
      "cell_type": "markdown",
      "metadata": {
        "id": "view-in-github",
        "colab_type": "text"
      },
      "source": [
        "<a href=\"https://colab.research.google.com/github/Yoshibansal/FaceProject/blob/master/Face_project.ipynb\" target=\"_parent\"><img src=\"https://colab.research.google.com/assets/colab-badge.svg\" alt=\"Open In Colab\"/></a>"
      ]
    },
    {
      "cell_type": "markdown",
      "metadata": {
        "id": "nmn0tVgQWg1u",
        "colab_type": "text"
      },
      "source": [
        "What this program will do:\n",
        "\n",
        "1. It will download all the images(that you want also the quantity) from google and Save them in a folder.\n",
        "\n",
        "2. It will call the every image one by one and then find face in them.\n",
        "\n",
        "3. All the detected faces are than saved in a different folder.\n",
        "\n",
        "4. Those saved faces are than reduced to half and also converted into black and white.\n",
        "\n",
        "5. Atlast, Zip that final folder."
      ]
    },
    {
      "cell_type": "markdown",
      "metadata": {
        "id": "Cu8JxHtUWirc",
        "colab_type": "text"
      },
      "source": [
        "How to use it:\n",
        "1. Download this file with other files attached. \n",
        "\n",
        "2. Open/upload this file in google Colab and upload other files to the folder named content (create it if not yet created)\n",
        "\n",
        "3. Run all the codes one by one \n",
        "\n",
        "4. Enter the topic on which you want to download images with the amount.\n",
        "\n",
        "5. When you run the last code you will get the zipped file (Zipped_file_faces.zip) in the content folder.\n",
        "\n",
        "6. Double click on the zip file, it will automatically download. Unzip it and there you find all the faces in the pics you downloaded from net."
      ]
    },
    {
      "cell_type": "markdown",
      "metadata": {
        "id": "IAovDorUWryQ",
        "colab_type": "text"
      },
      "source": [
        "Downloading images from google"
      ]
    },
    {
      "cell_type": "code",
      "metadata": {
        "id": "epHt52c4QoFs",
        "colab_type": "code",
        "outputId": "f873dccd-7b22-4805-9294-46856cc52ecc",
        "colab": {
          "base_uri": "https://localhost:8080/",
          "height": 258
        }
      },
      "source": [
        "!pip install google_images_download"
      ],
      "execution_count": 0,
      "outputs": [
        {
          "output_type": "stream",
          "text": [
            "Collecting google_images_download\n",
            "  Downloading https://files.pythonhosted.org/packages/18/ed/0319d30c48f3653802da8e6dcfefcea6370157d10d566ef6807cceb5ec4d/google_images_download-2.8.0.tar.gz\n",
            "Collecting selenium\n",
            "\u001b[?25l  Downloading https://files.pythonhosted.org/packages/80/d6/4294f0b4bce4de0abf13e17190289f9d0613b0a44e5dd6a7f5ca98459853/selenium-3.141.0-py2.py3-none-any.whl (904kB)\n",
            "\u001b[K     |████████████████████████████████| 911kB 7.5MB/s \n",
            "\u001b[?25hRequirement already satisfied: urllib3 in /usr/local/lib/python3.6/dist-packages (from selenium->google_images_download) (1.24.3)\n",
            "Building wheels for collected packages: google-images-download\n",
            "  Building wheel for google-images-download (setup.py) ... \u001b[?25l\u001b[?25hdone\n",
            "  Created wheel for google-images-download: filename=google_images_download-2.8.0-py2.py3-none-any.whl size=14550 sha256=acc298bbede9d7a8965186ddc86add57f25613818ebd9a65764568eeffe540c8\n",
            "  Stored in directory: /root/.cache/pip/wheels/1f/28/ad/f56e7061e1d2a9a1affe2f9c649c2570cb9198dd24ede0bbab\n",
            "Successfully built google-images-download\n",
            "Installing collected packages: selenium, google-images-download\n",
            "Successfully installed google-images-download-2.8.0 selenium-3.141.0\n"
          ],
          "name": "stdout"
        }
      ]
    },
    {
      "cell_type": "code",
      "metadata": {
        "id": "dfqjuVAnQo7y",
        "colab_type": "code",
        "colab": {}
      },
      "source": [
        "from google_images_download import google_images_download"
      ],
      "execution_count": 0,
      "outputs": []
    },
    {
      "cell_type": "code",
      "metadata": {
        "id": "iMUf_JfR9pF4",
        "colab_type": "code",
        "colab": {}
      },
      "source": [
        "#pip install yandex-images-download\n",
        "#!yandex-images-download Chrome --keywords \"group_pics\" --limit 20"
      ],
      "execution_count": 0,
      "outputs": []
    },
    {
      "cell_type": "code",
      "metadata": {
        "id": "b03YMaxgQuIP",
        "colab_type": "code",
        "colab": {}
      },
      "source": [
        "def download():\n",
        "  response = google_images_download.googleimagesdownload()\n",
        "\n",
        "  #taken input from the user\n",
        "  topic = input(\"Topic you want to search : \")\n",
        "      #topic will be the name of the folder where images are saved\n",
        "  size = int(input(\"Enter the number of images you want to download : \"))\n",
        "\n",
        "  #downloading \n",
        "  absolute_image_paths = response.download({\"keywords\":topic,\"limit\":size})\n",
        "  return topic"
      ],
      "execution_count": 0,
      "outputs": []
    },
    {
      "cell_type": "markdown",
      "metadata": {
        "id": "5fJeW9MuWyUf",
        "colab_type": "text"
      },
      "source": [
        "Extracting all faces"
      ]
    },
    {
      "cell_type": "code",
      "metadata": {
        "id": "lY5XwT0WQxcQ",
        "colab_type": "code",
        "colab": {}
      },
      "source": [
        "import numpy as np\n",
        "import cv2\n",
        "from matplotlib import pyplot as plt"
      ],
      "execution_count": 0,
      "outputs": []
    },
    {
      "cell_type": "code",
      "metadata": {
        "id": "O8lw3HBTQ2QJ",
        "colab_type": "code",
        "colab": {}
      },
      "source": [
        "from google.colab.patches import cv2_imshow"
      ],
      "execution_count": 0,
      "outputs": []
    },
    {
      "cell_type": "code",
      "metadata": {
        "id": "8d11zq4MQ-zh",
        "colab_type": "code",
        "colab": {}
      },
      "source": [
        "#Create a cascade Classifier objects\n",
        "face_cascade = cv2.CascadeClassifier('/content/haarcascade_frontalface_alt.xml')"
      ],
      "execution_count": 0,
      "outputs": []
    },
    {
      "cell_type": "markdown",
      "metadata": {
        "id": "Z1wQQ7rZW3OS",
        "colab_type": "text"
      },
      "source": [
        "Detecting faces from the pics"
      ]
    },
    {
      "cell_type": "code",
      "metadata": {
        "id": "CY5O8VC1RJxs",
        "colab_type": "code",
        "colab": {}
      },
      "source": [
        "def face_detect(img_path):\n",
        "  #To read the image as it is\n",
        "  img = cv2.imread(img_path)\n",
        "  #Reading the image as gray scale image\n",
        "  gray = cv2.cvtColor(img, cv2.COLOR_BGR2GRAY)\n",
        "  faces = face_cascade.detectMultiScale(gray, scaleFactor = 1.3, minNeighbors = 5)\n",
        "  #for adding the rectangle boxes around the faces\n",
        "  for (x,y,w,h) in faces:\n",
        "    cv2.rectangle(img,(x,y),(x+w,y+h),(255,255,255),2)\n",
        "  #printing the image with detected faces and eyes\n",
        "  '''cv2_imshow(img)'''\n",
        "  return faces, img"
      ],
      "execution_count": 0,
      "outputs": []
    },
    {
      "cell_type": "code",
      "metadata": {
        "id": "FPUbro0ewrT7",
        "colab_type": "code",
        "colab": {}
      },
      "source": [
        ""
      ],
      "execution_count": 0,
      "outputs": []
    },
    {
      "cell_type": "code",
      "metadata": {
        "id": "2LKy1HeORMv4",
        "colab_type": "code",
        "colab": {}
      },
      "source": [
        "#for extracting faces from an image\n",
        "def extract_face(faces, img, count):\n",
        "  for x,y,w,h in faces:\n",
        "    extracted_face = img[y:y+h, x:x+w]\n",
        "    path = \"/content/faces/person{}.jpeg\".format(count)\n",
        "    cv2.imwrite(path, extracted_face)\n",
        "    count += 1\n",
        "  return count"
      ],
      "execution_count": 0,
      "outputs": []
    },
    {
      "cell_type": "code",
      "metadata": {
        "id": "b80C9FZxRQdw",
        "colab_type": "code",
        "colab": {}
      },
      "source": [
        "#reducing images by 50%\n",
        "def face_reduce(count):\n",
        "  for i in range(1,count):\n",
        "    path = \"/content/faces/person{}.jpeg\".format(i)\n",
        "    image = cv2.imread(path)\n",
        "    reduced_img = cv2.resize(image ,(int(image.shape[1]/2),int(image.shape[0]/2)))\n",
        "    #saving the black and white image in folder\n",
        "    path_save = \"/content/faces/person{}.jpeg\".format(i)\n",
        "    cv2.imwrite(path_save, reduced_img)"
      ],
      "execution_count": 0,
      "outputs": []
    },
    {
      "cell_type": "code",
      "metadata": {
        "id": "IMryCNbsRUE6",
        "colab_type": "code",
        "colab": {}
      },
      "source": [
        "def convert_BlackandWhite(count):\n",
        "  for i in range(1,count):\n",
        "    path = \"/content/faces/person{}.jpeg\".format(i)\n",
        "    image = cv2.imread(path)\n",
        "    gray = cv2.cvtColor(image, cv2.COLOR_BGR2GRAY)\n",
        "    #saving the black and white image in folder\n",
        "    path_save = \"/content/faces/person{}.jpeg\".format(i)\n",
        "    cv2.imwrite(path_save, gray)"
      ],
      "execution_count": 0,
      "outputs": []
    },
    {
      "cell_type": "code",
      "metadata": {
        "id": "CCJYCRgxRX9S",
        "colab_type": "code",
        "colab": {}
      },
      "source": [
        "import glob"
      ],
      "execution_count": 0,
      "outputs": []
    },
    {
      "cell_type": "code",
      "metadata": {
        "id": "4YtO83iFRaeD",
        "colab_type": "code",
        "outputId": "e38bc487-b5a1-4b59-8aca-aba005e1634f",
        "colab": {
          "base_uri": "https://localhost:8080/",
          "height": 241
        }
      },
      "source": [
        "topic = download()"
      ],
      "execution_count": 0,
      "outputs": [
        {
          "output_type": "stream",
          "text": [
            "Topic you want to search : group photo\n",
            "Enter the number of images you want to download : 10\n",
            "\n",
            "Item no.: 1 --> Item name = group photo\n",
            "Evaluating...\n",
            "Starting Download...\n",
            "\n",
            "\n",
            "Unfortunately all 10 could not be downloaded because some images were not downloadable. 0 is all we got for this search filter!\n",
            "\n",
            "Errors: 0\n",
            "\n"
          ],
          "name": "stdout"
        }
      ]
    },
    {
      "cell_type": "code",
      "metadata": {
        "id": "jbaG9PULRdwb",
        "colab_type": "code",
        "outputId": "f89b8d26-2469-4406-dfe5-86147c22ab92",
        "colab": {
          "base_uri": "https://localhost:8080/",
          "height": 34
        }
      },
      "source": [
        "!mkdir /content/faces\n",
        "path_ = '/content/downloads/{}/*.jpg'.format(topic)\n",
        "count_g = 1\n",
        "for filename in glob.glob(path_):\n",
        "  face_d,image = face_detect(filename)\n",
        "  count_g = extract_face(face_d, image, count_g)\n",
        "  \n",
        "face_reduce(count_g)\n",
        "convert_BlackandWhite(count_g)\n",
        "print(\"Number of faces found : \",count_g)"
      ],
      "execution_count": 0,
      "outputs": [
        {
          "output_type": "stream",
          "text": [
            "Number of faces found :  1\n"
          ],
          "name": "stdout"
        }
      ]
    },
    {
      "cell_type": "markdown",
      "metadata": {
        "id": "MguMS1v0XHo0",
        "colab_type": "text"
      },
      "source": [
        "Creating the zipped file "
      ]
    },
    {
      "cell_type": "code",
      "metadata": {
        "id": "yCnhUxUYRzCK",
        "colab_type": "code",
        "outputId": "f7b1a36e-622b-47d6-a810-086567c24d69",
        "colab": {
          "base_uri": "https://localhost:8080/",
          "height": 34
        }
      },
      "source": [
        "import os\n",
        "import zipfile\n",
        "\n",
        "def zipdir(path, ziph):\n",
        "  # ziph is zipfile handle\n",
        "  for root, dirs, files in os.walk(path):\n",
        "      for file in files:\n",
        "          ziph.write(os.path.join(root, file))\n",
        "path_zip = '/content/downloades/data'\n",
        "zipf = zipfile.ZipFile('Zipped_file_faces.zip', 'w', zipfile.ZIP_DEFLATED)\n",
        "zipdir(path_zip, zipf)\n",
        "zipf.close()\n",
        "\n",
        "import os.path\n",
        "from os import path\n",
        "\n",
        "if path.isfile(\"/content/Zipped_file_faces.zip\"):\n",
        "  print(\"created\")"
      ],
      "execution_count": 0,
      "outputs": [
        {
          "output_type": "stream",
          "text": [
            "created\n"
          ],
          "name": "stdout"
        }
      ]
    },
    {
      "cell_type": "code",
      "metadata": {
        "id": "-ef3ZDm9UlFm",
        "colab_type": "code",
        "colab": {}
      },
      "source": [
        ""
      ],
      "execution_count": 0,
      "outputs": []
    }
  ]
}